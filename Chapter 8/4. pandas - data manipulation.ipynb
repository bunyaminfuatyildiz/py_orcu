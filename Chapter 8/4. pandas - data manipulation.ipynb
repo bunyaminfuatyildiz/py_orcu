{
 "cells": [
  {
   "cell_type": "markdown",
   "metadata": {},
   "source": [
    "# pandas - data manipulation"
   ]
  },
  {
   "cell_type": "code",
   "execution_count": 1,
   "metadata": {
    "collapsed": true
   },
   "outputs": [],
   "source": [
    "import pandas as pd"
   ]
  },
  {
   "cell_type": "code",
   "execution_count": 3,
   "metadata": {
    "collapsed": true
   },
   "outputs": [],
   "source": [
    "df2 = pd.DataFrame({'Names': ['Simon', 'Kate', 'Francis', 'Laura', 'Mary', 'Julian', 'Rosie', 'Simon', 'Laura'],\n",
    "                   'Height':[180, 165, 170, 164, 163, 175, 166, 180, 164],\n",
    "                   'Weight':[85, 65, 68, 45, 43, 72, 46, 85, 45],\n",
    "                   'Pref_food': ['steak', 'pizza', 'pasta', 'pizza', 'vegetables', 'steak', 'seafood', 'steak', 'pizza'],\n",
    "                   'Sex': ['m','f','m','f','f','m','f', 'm', 'f']})"
   ]
  },
  {
   "cell_type": "code",
   "execution_count": 4,
   "metadata": {},
   "outputs": [
    {
     "name": "stdout",
     "output_type": "stream",
     "text": [
      "   Height    Names   Pref_food Sex  Weight\n",
      "0     180    Simon       steak   m      85\n",
      "1     165     Kate       pizza   f      65\n",
      "2     170  Francis       pasta   m      68\n",
      "3     164    Laura       pizza   f      45\n",
      "4     163     Mary  vegetables   f      43\n",
      "5     175   Julian       steak   m      72\n",
      "6     166    Rosie     seafood   f      46\n",
      "7     180    Simon       steak   m      85\n",
      "8     164    Laura       pizza   f      45\n"
     ]
    }
   ],
   "source": [
    "print(df2)"
   ]
  },
  {
   "cell_type": "code",
   "execution_count": 5,
   "metadata": {},
   "outputs": [],
   "source": [
    "df_dummy = pd.get_dummies(df2['Sex'], prefix = 'Sex')"
   ]
  },
  {
   "cell_type": "code",
   "execution_count": 6,
   "metadata": {},
   "outputs": [
    {
     "data": {
      "text/html": [
       "<div>\n",
       "<table border=\"1\" class=\"dataframe\">\n",
       "  <thead>\n",
       "    <tr style=\"text-align: right;\">\n",
       "      <th></th>\n",
       "      <th>Sex_f</th>\n",
       "      <th>Sex_m</th>\n",
       "    </tr>\n",
       "  </thead>\n",
       "  <tbody>\n",
       "    <tr>\n",
       "      <th>0</th>\n",
       "      <td>0</td>\n",
       "      <td>1</td>\n",
       "    </tr>\n",
       "    <tr>\n",
       "      <th>1</th>\n",
       "      <td>1</td>\n",
       "      <td>0</td>\n",
       "    </tr>\n",
       "    <tr>\n",
       "      <th>2</th>\n",
       "      <td>0</td>\n",
       "      <td>1</td>\n",
       "    </tr>\n",
       "    <tr>\n",
       "      <th>3</th>\n",
       "      <td>1</td>\n",
       "      <td>0</td>\n",
       "    </tr>\n",
       "    <tr>\n",
       "      <th>4</th>\n",
       "      <td>1</td>\n",
       "      <td>0</td>\n",
       "    </tr>\n",
       "    <tr>\n",
       "      <th>5</th>\n",
       "      <td>0</td>\n",
       "      <td>1</td>\n",
       "    </tr>\n",
       "    <tr>\n",
       "      <th>6</th>\n",
       "      <td>1</td>\n",
       "      <td>0</td>\n",
       "    </tr>\n",
       "    <tr>\n",
       "      <th>7</th>\n",
       "      <td>0</td>\n",
       "      <td>1</td>\n",
       "    </tr>\n",
       "    <tr>\n",
       "      <th>8</th>\n",
       "      <td>1</td>\n",
       "      <td>0</td>\n",
       "    </tr>\n",
       "  </tbody>\n",
       "</table>\n",
       "</div>"
      ],
      "text/plain": [
       "   Sex_f  Sex_m\n",
       "0      0      1\n",
       "1      1      0\n",
       "2      0      1\n",
       "3      1      0\n",
       "4      1      0\n",
       "5      0      1\n",
       "6      1      0\n",
       "7      0      1\n",
       "8      1      0"
      ]
     },
     "execution_count": 6,
     "metadata": {},
     "output_type": "execute_result"
    }
   ],
   "source": [
    "df_dummy"
   ]
  },
  {
   "cell_type": "code",
   "execution_count": 8,
   "metadata": {},
   "outputs": [
    {
     "data": {
      "text/html": [
       "<div>\n",
       "<table border=\"1\" class=\"dataframe\">\n",
       "  <thead>\n",
       "    <tr style=\"text-align: right;\">\n",
       "      <th></th>\n",
       "      <th>Height</th>\n",
       "      <th>Names</th>\n",
       "      <th>Pref_food</th>\n",
       "      <th>Sex</th>\n",
       "      <th>Weight</th>\n",
       "      <th>Sex_f</th>\n",
       "      <th>Sex_m</th>\n",
       "    </tr>\n",
       "  </thead>\n",
       "  <tbody>\n",
       "    <tr>\n",
       "      <th>0</th>\n",
       "      <td>180</td>\n",
       "      <td>Simon</td>\n",
       "      <td>steak</td>\n",
       "      <td>m</td>\n",
       "      <td>85</td>\n",
       "      <td>0</td>\n",
       "      <td>1</td>\n",
       "    </tr>\n",
       "    <tr>\n",
       "      <th>1</th>\n",
       "      <td>165</td>\n",
       "      <td>Kate</td>\n",
       "      <td>pizza</td>\n",
       "      <td>f</td>\n",
       "      <td>65</td>\n",
       "      <td>1</td>\n",
       "      <td>0</td>\n",
       "    </tr>\n",
       "    <tr>\n",
       "      <th>2</th>\n",
       "      <td>170</td>\n",
       "      <td>Francis</td>\n",
       "      <td>pasta</td>\n",
       "      <td>m</td>\n",
       "      <td>68</td>\n",
       "      <td>0</td>\n",
       "      <td>1</td>\n",
       "    </tr>\n",
       "    <tr>\n",
       "      <th>3</th>\n",
       "      <td>164</td>\n",
       "      <td>Laura</td>\n",
       "      <td>pizza</td>\n",
       "      <td>f</td>\n",
       "      <td>45</td>\n",
       "      <td>1</td>\n",
       "      <td>0</td>\n",
       "    </tr>\n",
       "    <tr>\n",
       "      <th>4</th>\n",
       "      <td>163</td>\n",
       "      <td>Mary</td>\n",
       "      <td>vegetables</td>\n",
       "      <td>f</td>\n",
       "      <td>43</td>\n",
       "      <td>1</td>\n",
       "      <td>0</td>\n",
       "    </tr>\n",
       "    <tr>\n",
       "      <th>5</th>\n",
       "      <td>175</td>\n",
       "      <td>Julian</td>\n",
       "      <td>steak</td>\n",
       "      <td>m</td>\n",
       "      <td>72</td>\n",
       "      <td>0</td>\n",
       "      <td>1</td>\n",
       "    </tr>\n",
       "    <tr>\n",
       "      <th>6</th>\n",
       "      <td>166</td>\n",
       "      <td>Rosie</td>\n",
       "      <td>seafood</td>\n",
       "      <td>f</td>\n",
       "      <td>46</td>\n",
       "      <td>1</td>\n",
       "      <td>0</td>\n",
       "    </tr>\n",
       "    <tr>\n",
       "      <th>7</th>\n",
       "      <td>180</td>\n",
       "      <td>Simon</td>\n",
       "      <td>steak</td>\n",
       "      <td>m</td>\n",
       "      <td>85</td>\n",
       "      <td>0</td>\n",
       "      <td>1</td>\n",
       "    </tr>\n",
       "    <tr>\n",
       "      <th>8</th>\n",
       "      <td>164</td>\n",
       "      <td>Laura</td>\n",
       "      <td>pizza</td>\n",
       "      <td>f</td>\n",
       "      <td>45</td>\n",
       "      <td>1</td>\n",
       "      <td>0</td>\n",
       "    </tr>\n",
       "  </tbody>\n",
       "</table>\n",
       "</div>"
      ],
      "text/plain": [
       "   Height    Names   Pref_food Sex  Weight  Sex_f  Sex_m\n",
       "0     180    Simon       steak   m      85      0      1\n",
       "1     165     Kate       pizza   f      65      1      0\n",
       "2     170  Francis       pasta   m      68      0      1\n",
       "3     164    Laura       pizza   f      45      1      0\n",
       "4     163     Mary  vegetables   f      43      1      0\n",
       "5     175   Julian       steak   m      72      0      1\n",
       "6     166    Rosie     seafood   f      46      1      0\n",
       "7     180    Simon       steak   m      85      0      1\n",
       "8     164    Laura       pizza   f      45      1      0"
      ]
     },
     "execution_count": 8,
     "metadata": {},
     "output_type": "execute_result"
    }
   ],
   "source": [
    "df2.join(df_dummy)"
   ]
  },
  {
   "cell_type": "code",
   "execution_count": 9,
   "metadata": {},
   "outputs": [
    {
     "data": {
      "text/html": [
       "<div>\n",
       "<table border=\"1\" class=\"dataframe\">\n",
       "  <thead>\n",
       "    <tr style=\"text-align: right;\">\n",
       "      <th></th>\n",
       "      <th>Height</th>\n",
       "      <th>Names</th>\n",
       "      <th>Pref_food</th>\n",
       "      <th>Sex</th>\n",
       "      <th>Weight</th>\n",
       "    </tr>\n",
       "  </thead>\n",
       "  <tbody>\n",
       "    <tr>\n",
       "      <th>0</th>\n",
       "      <td>180</td>\n",
       "      <td>Simon</td>\n",
       "      <td>steak</td>\n",
       "      <td>m</td>\n",
       "      <td>85</td>\n",
       "    </tr>\n",
       "    <tr>\n",
       "      <th>1</th>\n",
       "      <td>165</td>\n",
       "      <td>Kate</td>\n",
       "      <td>pizza</td>\n",
       "      <td>f</td>\n",
       "      <td>65</td>\n",
       "    </tr>\n",
       "  </tbody>\n",
       "</table>\n",
       "</div>"
      ],
      "text/plain": [
       "   Height  Names Pref_food Sex  Weight\n",
       "0     180  Simon     steak   m      85\n",
       "1     165   Kate     pizza   f      65"
      ]
     },
     "execution_count": 9,
     "metadata": {},
     "output_type": "execute_result"
    }
   ],
   "source": [
    "df2.head(2)"
   ]
  },
  {
   "cell_type": "code",
   "execution_count": 10,
   "metadata": {},
   "outputs": [],
   "source": [
    "df3 = df2.join(df_dummy)"
   ]
  },
  {
   "cell_type": "code",
   "execution_count": 11,
   "metadata": {},
   "outputs": [
    {
     "name": "stdout",
     "output_type": "stream",
     "text": [
      "   Height  Names Pref_food Sex  Weight  Sex_f  Sex_m\n",
      "0     180  Simon     steak   m      85      0      1\n",
      "1     165   Kate     pizza   f      65      1      0\n"
     ]
    }
   ],
   "source": [
    "print(df3.head(2))"
   ]
  },
  {
   "cell_type": "code",
   "execution_count": 12,
   "metadata": {
    "collapsed": true
   },
   "outputs": [],
   "source": [
    "del df3['Sex']"
   ]
  },
  {
   "cell_type": "code",
   "execution_count": 14,
   "metadata": {},
   "outputs": [
    {
     "name": "stdout",
     "output_type": "stream",
     "text": [
      "   Height  Names Pref_food  Weight  Sex_f  Sex_m\n",
      "0     180  Simon     steak      85      0      1\n",
      "1     165   Kate     pizza      65      1      0\n"
     ]
    }
   ],
   "source": [
    "print(df3.head(2))"
   ]
  },
  {
   "cell_type": "code",
   "execution_count": 17,
   "metadata": {},
   "outputs": [
    {
     "name": "stdout",
     "output_type": "stream",
     "text": [
      "   Height    Names   Pref_food Sex  Weight\n",
      "0     180    Simon       steak   m      85\n",
      "1     165     Kate       pizza   f      65\n",
      "2     170  Francis       pasta   m      68\n",
      "3     164    Laura       pizza   f      45\n",
      "4     163     Mary  vegetables   f      43\n",
      "5     175   Julian       steak   m      72\n",
      "6     166    Rosie     seafood   f      46\n",
      "7     180    Simon       steak   m      85\n",
      "8     164    Laura       pizza   f      45\n"
     ]
    }
   ],
   "source": [
    "print(df2)"
   ]
  },
  {
   "cell_type": "code",
   "execution_count": null,
   "metadata": {
    "collapsed": true
   },
   "outputs": [],
   "source": [
    "# duplicates"
   ]
  },
  {
   "cell_type": "code",
   "execution_count": 18,
   "metadata": {},
   "outputs": [
    {
     "data": {
      "text/plain": [
       "0    False\n",
       "1    False\n",
       "2    False\n",
       "3    False\n",
       "4    False\n",
       "5    False\n",
       "6    False\n",
       "7     True\n",
       "8     True\n",
       "dtype: bool"
      ]
     },
     "execution_count": 18,
     "metadata": {},
     "output_type": "execute_result"
    }
   ],
   "source": [
    "df2.duplicated()"
   ]
  },
  {
   "cell_type": "code",
   "execution_count": 19,
   "metadata": {},
   "outputs": [
    {
     "data": {
      "text/html": [
       "<div>\n",
       "<table border=\"1\" class=\"dataframe\">\n",
       "  <thead>\n",
       "    <tr style=\"text-align: right;\">\n",
       "      <th></th>\n",
       "      <th>Height</th>\n",
       "      <th>Names</th>\n",
       "      <th>Pref_food</th>\n",
       "      <th>Sex</th>\n",
       "      <th>Weight</th>\n",
       "    </tr>\n",
       "  </thead>\n",
       "  <tbody>\n",
       "    <tr>\n",
       "      <th>0</th>\n",
       "      <td>180</td>\n",
       "      <td>Simon</td>\n",
       "      <td>steak</td>\n",
       "      <td>m</td>\n",
       "      <td>85</td>\n",
       "    </tr>\n",
       "    <tr>\n",
       "      <th>1</th>\n",
       "      <td>165</td>\n",
       "      <td>Kate</td>\n",
       "      <td>pizza</td>\n",
       "      <td>f</td>\n",
       "      <td>65</td>\n",
       "    </tr>\n",
       "    <tr>\n",
       "      <th>2</th>\n",
       "      <td>170</td>\n",
       "      <td>Francis</td>\n",
       "      <td>pasta</td>\n",
       "      <td>m</td>\n",
       "      <td>68</td>\n",
       "    </tr>\n",
       "    <tr>\n",
       "      <th>3</th>\n",
       "      <td>164</td>\n",
       "      <td>Laura</td>\n",
       "      <td>pizza</td>\n",
       "      <td>f</td>\n",
       "      <td>45</td>\n",
       "    </tr>\n",
       "    <tr>\n",
       "      <th>4</th>\n",
       "      <td>163</td>\n",
       "      <td>Mary</td>\n",
       "      <td>vegetables</td>\n",
       "      <td>f</td>\n",
       "      <td>43</td>\n",
       "    </tr>\n",
       "    <tr>\n",
       "      <th>5</th>\n",
       "      <td>175</td>\n",
       "      <td>Julian</td>\n",
       "      <td>steak</td>\n",
       "      <td>m</td>\n",
       "      <td>72</td>\n",
       "    </tr>\n",
       "    <tr>\n",
       "      <th>6</th>\n",
       "      <td>166</td>\n",
       "      <td>Rosie</td>\n",
       "      <td>seafood</td>\n",
       "      <td>f</td>\n",
       "      <td>46</td>\n",
       "    </tr>\n",
       "  </tbody>\n",
       "</table>\n",
       "</div>"
      ],
      "text/plain": [
       "   Height    Names   Pref_food Sex  Weight\n",
       "0     180    Simon       steak   m      85\n",
       "1     165     Kate       pizza   f      65\n",
       "2     170  Francis       pasta   m      68\n",
       "3     164    Laura       pizza   f      45\n",
       "4     163     Mary  vegetables   f      43\n",
       "5     175   Julian       steak   m      72\n",
       "6     166    Rosie     seafood   f      46"
      ]
     },
     "execution_count": 19,
     "metadata": {},
     "output_type": "execute_result"
    }
   ],
   "source": [
    "df2.drop_duplicates()"
   ]
  },
  {
   "cell_type": "code",
   "execution_count": 20,
   "metadata": {},
   "outputs": [],
   "source": [
    "df3 = df2.drop_duplicates()"
   ]
  },
  {
   "cell_type": "code",
   "execution_count": 21,
   "metadata": {},
   "outputs": [
    {
     "data": {
      "text/html": [
       "<div>\n",
       "<table border=\"1\" class=\"dataframe\">\n",
       "  <thead>\n",
       "    <tr style=\"text-align: right;\">\n",
       "      <th></th>\n",
       "      <th>Height</th>\n",
       "      <th>Names</th>\n",
       "      <th>Pref_food</th>\n",
       "      <th>Sex</th>\n",
       "      <th>Weight</th>\n",
       "    </tr>\n",
       "  </thead>\n",
       "  <tbody>\n",
       "    <tr>\n",
       "      <th>0</th>\n",
       "      <td>180</td>\n",
       "      <td>Simon</td>\n",
       "      <td>steak</td>\n",
       "      <td>m</td>\n",
       "      <td>85</td>\n",
       "    </tr>\n",
       "    <tr>\n",
       "      <th>1</th>\n",
       "      <td>165</td>\n",
       "      <td>Kate</td>\n",
       "      <td>pizza</td>\n",
       "      <td>f</td>\n",
       "      <td>65</td>\n",
       "    </tr>\n",
       "    <tr>\n",
       "      <th>2</th>\n",
       "      <td>170</td>\n",
       "      <td>Francis</td>\n",
       "      <td>pasta</td>\n",
       "      <td>m</td>\n",
       "      <td>68</td>\n",
       "    </tr>\n",
       "    <tr>\n",
       "      <th>3</th>\n",
       "      <td>164</td>\n",
       "      <td>Laura</td>\n",
       "      <td>pizza</td>\n",
       "      <td>f</td>\n",
       "      <td>45</td>\n",
       "    </tr>\n",
       "    <tr>\n",
       "      <th>4</th>\n",
       "      <td>163</td>\n",
       "      <td>Mary</td>\n",
       "      <td>vegetables</td>\n",
       "      <td>f</td>\n",
       "      <td>43</td>\n",
       "    </tr>\n",
       "    <tr>\n",
       "      <th>5</th>\n",
       "      <td>175</td>\n",
       "      <td>Julian</td>\n",
       "      <td>steak</td>\n",
       "      <td>m</td>\n",
       "      <td>72</td>\n",
       "    </tr>\n",
       "    <tr>\n",
       "      <th>6</th>\n",
       "      <td>166</td>\n",
       "      <td>Rosie</td>\n",
       "      <td>seafood</td>\n",
       "      <td>f</td>\n",
       "      <td>46</td>\n",
       "    </tr>\n",
       "  </tbody>\n",
       "</table>\n",
       "</div>"
      ],
      "text/plain": [
       "   Height    Names   Pref_food Sex  Weight\n",
       "0     180    Simon       steak   m      85\n",
       "1     165     Kate       pizza   f      65\n",
       "2     170  Francis       pasta   m      68\n",
       "3     164    Laura       pizza   f      45\n",
       "4     163     Mary  vegetables   f      43\n",
       "5     175   Julian       steak   m      72\n",
       "6     166    Rosie     seafood   f      46"
      ]
     },
     "execution_count": 21,
     "metadata": {},
     "output_type": "execute_result"
    }
   ],
   "source": [
    "df3"
   ]
  },
  {
   "cell_type": "code",
   "execution_count": 14,
   "metadata": {
    "collapsed": true
   },
   "outputs": [],
   "source": [
    "# drop to remove cases"
   ]
  },
  {
   "cell_type": "code",
   "execution_count": 23,
   "metadata": {},
   "outputs": [
    {
     "name": "stdout",
     "output_type": "stream",
     "text": [
      "   Height   Names   Pref_food Sex  Weight\n",
      "0     180   Simon       steak   m      85\n",
      "1     165    Kate       pizza   f      65\n",
      "3     164   Laura       pizza   f      45\n",
      "4     163    Mary  vegetables   f      43\n",
      "5     175  Julian       steak   m      72\n",
      "6     166   Rosie     seafood   f      46\n",
      "7     180   Simon       steak   m      85\n",
      "8     164   Laura       pizza   f      45\n"
     ]
    }
   ],
   "source": [
    "print(df2.drop(2))"
   ]
  },
  {
   "cell_type": "code",
   "execution_count": null,
   "metadata": {
    "collapsed": true
   },
   "outputs": [],
   "source": [
    "# rearrange the data"
   ]
  },
  {
   "cell_type": "code",
   "execution_count": 24,
   "metadata": {},
   "outputs": [
    {
     "data": {
      "text/plain": [
       "0  Height              180\n",
       "   Names             Simon\n",
       "   Pref_food         steak\n",
       "   Sex                   m\n",
       "   Weight               85\n",
       "1  Height              165\n",
       "   Names              Kate\n",
       "   Pref_food         pizza\n",
       "   Sex                   f\n",
       "   Weight               65\n",
       "2  Height              170\n",
       "   Names           Francis\n",
       "   Pref_food         pasta\n",
       "   Sex                   m\n",
       "   Weight               68\n",
       "3  Height              164\n",
       "   Names             Laura\n",
       "   Pref_food         pizza\n",
       "   Sex                   f\n",
       "   Weight               45\n",
       "4  Height              163\n",
       "   Names              Mary\n",
       "   Pref_food    vegetables\n",
       "   Sex                   f\n",
       "   Weight               43\n",
       "5  Height              175\n",
       "   Names            Julian\n",
       "   Pref_food         steak\n",
       "   Sex                   m\n",
       "   Weight               72\n",
       "6  Height              166\n",
       "   Names             Rosie\n",
       "   Pref_food       seafood\n",
       "   Sex                   f\n",
       "   Weight               46\n",
       "dtype: object"
      ]
     },
     "execution_count": 24,
     "metadata": {},
     "output_type": "execute_result"
    }
   ],
   "source": [
    "df3.stack()"
   ]
  },
  {
   "cell_type": "code",
   "execution_count": 25,
   "metadata": {},
   "outputs": [],
   "source": [
    "stacked = df3.stack()"
   ]
  },
  {
   "cell_type": "code",
   "execution_count": 26,
   "metadata": {
    "collapsed": true
   },
   "outputs": [],
   "source": [
    "unstacked = stacked.unstack()"
   ]
  },
  {
   "cell_type": "code",
   "execution_count": 27,
   "metadata": {},
   "outputs": [
    {
     "name": "stdout",
     "output_type": "stream",
     "text": [
      "  Height    Names   Pref_food Sex Weight\n",
      "0    180    Simon       steak   m     85\n",
      "1    165     Kate       pizza   f     65\n",
      "2    170  Francis       pasta   m     68\n",
      "3    164    Laura       pizza   f     45\n",
      "4    163     Mary  vegetables   f     43\n",
      "5    175   Julian       steak   m     72\n",
      "6    166    Rosie     seafood   f     46\n"
     ]
    }
   ],
   "source": [
    "print(unstacked)"
   ]
  },
  {
   "cell_type": "code",
   "execution_count": 28,
   "metadata": {},
   "outputs": [
    {
     "name": "stdout",
     "output_type": "stream",
     "text": [
      "     variable       value\n",
      "0      Height         180\n",
      "1      Height         165\n",
      "2      Height         170\n",
      "3      Height         164\n",
      "4      Height         163\n",
      "5      Height         175\n",
      "6      Height         166\n",
      "7       Names       Simon\n",
      "8       Names        Kate\n",
      "9       Names     Francis\n",
      "10      Names       Laura\n",
      "11      Names        Mary\n",
      "12      Names      Julian\n",
      "13      Names       Rosie\n",
      "14  Pref_food       steak\n",
      "15  Pref_food       pizza\n",
      "16  Pref_food       pasta\n",
      "17  Pref_food       pizza\n",
      "18  Pref_food  vegetables\n",
      "19  Pref_food       steak\n",
      "20  Pref_food     seafood\n",
      "21        Sex           m\n",
      "22        Sex           f\n",
      "23        Sex           m\n",
      "24        Sex           f\n",
      "25        Sex           f\n",
      "26        Sex           m\n",
      "27        Sex           f\n",
      "28     Weight          85\n",
      "29     Weight          65\n",
      "30     Weight          68\n",
      "31     Weight          45\n",
      "32     Weight          43\n",
      "33     Weight          72\n",
      "34     Weight          46\n"
     ]
    }
   ],
   "source": [
    "print(pd.melt(df3))"
   ]
  },
  {
   "cell_type": "code",
   "execution_count": null,
   "metadata": {
    "collapsed": true
   },
   "outputs": [],
   "source": [
    "# let's take again the original dataset df2"
   ]
  },
  {
   "cell_type": "code",
   "execution_count": 29,
   "metadata": {},
   "outputs": [
    {
     "data": {
      "text/html": [
       "<div>\n",
       "<table border=\"1\" class=\"dataframe\">\n",
       "  <thead>\n",
       "    <tr style=\"text-align: right;\">\n",
       "      <th></th>\n",
       "      <th>Height</th>\n",
       "      <th>Names</th>\n",
       "      <th>Pref_food</th>\n",
       "      <th>Sex</th>\n",
       "      <th>Weight</th>\n",
       "    </tr>\n",
       "  </thead>\n",
       "  <tbody>\n",
       "    <tr>\n",
       "      <th>0</th>\n",
       "      <td>180</td>\n",
       "      <td>Simon</td>\n",
       "      <td>steak</td>\n",
       "      <td>m</td>\n",
       "      <td>85</td>\n",
       "    </tr>\n",
       "    <tr>\n",
       "      <th>1</th>\n",
       "      <td>165</td>\n",
       "      <td>Kate</td>\n",
       "      <td>pizza</td>\n",
       "      <td>f</td>\n",
       "      <td>65</td>\n",
       "    </tr>\n",
       "  </tbody>\n",
       "</table>\n",
       "</div>"
      ],
      "text/plain": [
       "   Height  Names Pref_food Sex  Weight\n",
       "0     180  Simon     steak   m      85\n",
       "1     165   Kate     pizza   f      65"
      ]
     },
     "execution_count": 29,
     "metadata": {},
     "output_type": "execute_result"
    }
   ],
   "source": [
    "df2.head(2)"
   ]
  },
  {
   "cell_type": "code",
   "execution_count": 22,
   "metadata": {},
   "outputs": [],
   "source": [
    "# let's transpose rows and columns"
   ]
  },
  {
   "cell_type": "code",
   "execution_count": 30,
   "metadata": {},
   "outputs": [
    {
     "data": {
      "text/html": [
       "<div>\n",
       "<table border=\"1\" class=\"dataframe\">\n",
       "  <thead>\n",
       "    <tr style=\"text-align: right;\">\n",
       "      <th></th>\n",
       "      <th>0</th>\n",
       "      <th>1</th>\n",
       "      <th>2</th>\n",
       "      <th>3</th>\n",
       "      <th>4</th>\n",
       "      <th>5</th>\n",
       "      <th>6</th>\n",
       "      <th>7</th>\n",
       "      <th>8</th>\n",
       "    </tr>\n",
       "  </thead>\n",
       "  <tbody>\n",
       "    <tr>\n",
       "      <th>Height</th>\n",
       "      <td>180</td>\n",
       "      <td>165</td>\n",
       "      <td>170</td>\n",
       "      <td>164</td>\n",
       "      <td>163</td>\n",
       "      <td>175</td>\n",
       "      <td>166</td>\n",
       "      <td>180</td>\n",
       "      <td>164</td>\n",
       "    </tr>\n",
       "    <tr>\n",
       "      <th>Names</th>\n",
       "      <td>Simon</td>\n",
       "      <td>Kate</td>\n",
       "      <td>Francis</td>\n",
       "      <td>Laura</td>\n",
       "      <td>Mary</td>\n",
       "      <td>Julian</td>\n",
       "      <td>Rosie</td>\n",
       "      <td>Simon</td>\n",
       "      <td>Laura</td>\n",
       "    </tr>\n",
       "    <tr>\n",
       "      <th>Pref_food</th>\n",
       "      <td>steak</td>\n",
       "      <td>pizza</td>\n",
       "      <td>pasta</td>\n",
       "      <td>pizza</td>\n",
       "      <td>vegetables</td>\n",
       "      <td>steak</td>\n",
       "      <td>seafood</td>\n",
       "      <td>steak</td>\n",
       "      <td>pizza</td>\n",
       "    </tr>\n",
       "    <tr>\n",
       "      <th>Sex</th>\n",
       "      <td>m</td>\n",
       "      <td>f</td>\n",
       "      <td>m</td>\n",
       "      <td>f</td>\n",
       "      <td>f</td>\n",
       "      <td>m</td>\n",
       "      <td>f</td>\n",
       "      <td>m</td>\n",
       "      <td>f</td>\n",
       "    </tr>\n",
       "    <tr>\n",
       "      <th>Weight</th>\n",
       "      <td>85</td>\n",
       "      <td>65</td>\n",
       "      <td>68</td>\n",
       "      <td>45</td>\n",
       "      <td>43</td>\n",
       "      <td>72</td>\n",
       "      <td>46</td>\n",
       "      <td>85</td>\n",
       "      <td>45</td>\n",
       "    </tr>\n",
       "  </tbody>\n",
       "</table>\n",
       "</div>"
      ],
      "text/plain": [
       "               0      1        2      3           4       5        6      7  \\\n",
       "Height       180    165      170    164         163     175      166    180   \n",
       "Names      Simon   Kate  Francis  Laura        Mary  Julian    Rosie  Simon   \n",
       "Pref_food  steak  pizza    pasta  pizza  vegetables   steak  seafood  steak   \n",
       "Sex            m      f        m      f           f       m        f      m   \n",
       "Weight        85     65       68     45          43      72       46     85   \n",
       "\n",
       "               8  \n",
       "Height       164  \n",
       "Names      Laura  \n",
       "Pref_food  pizza  \n",
       "Sex            f  \n",
       "Weight        45  "
      ]
     },
     "execution_count": 30,
     "metadata": {},
     "output_type": "execute_result"
    }
   ],
   "source": [
    "df2.T"
   ]
  },
  {
   "cell_type": "code",
   "execution_count": null,
   "metadata": {
    "collapsed": true
   },
   "outputs": [],
   "source": [
    "# we can also extract a random sample of our data using the .sample() function"
   ]
  },
  {
   "cell_type": "code",
   "execution_count": 32,
   "metadata": {},
   "outputs": [
    {
     "name": "stdout",
     "output_type": "stream",
     "text": [
      "   Height    Names   Pref_food Sex  Weight\n",
      "4     163     Mary  vegetables   f      43\n",
      "2     170  Francis       pasta   m      68\n"
     ]
    }
   ],
   "source": [
    "print(df2.sample(n=2))"
   ]
  },
  {
   "cell_type": "code",
   "execution_count": 33,
   "metadata": {},
   "outputs": [
    {
     "name": "stdout",
     "output_type": "stream",
     "text": [
      "   Height   Names Pref_food Sex  Weight\n",
      "5     175  Julian     steak   m      72\n",
      "6     166   Rosie   seafood   f      46\n"
     ]
    }
   ],
   "source": [
    "print(df2.sample(n=2))"
   ]
  },
  {
   "cell_type": "code",
   "execution_count": null,
   "metadata": {
    "collapsed": true
   },
   "outputs": [],
   "source": [
    "# set a seed"
   ]
  },
  {
   "cell_type": "code",
   "execution_count": 34,
   "metadata": {
    "collapsed": true
   },
   "outputs": [],
   "source": [
    "import numpy as np"
   ]
  },
  {
   "cell_type": "code",
   "execution_count": 35,
   "metadata": {},
   "outputs": [],
   "source": [
    "np.random.seed(1)"
   ]
  },
  {
   "cell_type": "code",
   "execution_count": 36,
   "metadata": {},
   "outputs": [
    {
     "name": "stdout",
     "output_type": "stream",
     "text": [
      "   Height    Names Pref_food Sex  Weight\n",
      "8     164    Laura     pizza   f      45\n",
      "2     170  Francis     pasta   m      68\n"
     ]
    }
   ],
   "source": [
    "print(df2.sample(n=2))"
   ]
  },
  {
   "cell_type": "code",
   "execution_count": 37,
   "metadata": {
    "collapsed": true
   },
   "outputs": [],
   "source": [
    "np.random.seed(1)"
   ]
  },
  {
   "cell_type": "code",
   "execution_count": 38,
   "metadata": {},
   "outputs": [
    {
     "data": {
      "text/html": [
       "<div>\n",
       "<table border=\"1\" class=\"dataframe\">\n",
       "  <thead>\n",
       "    <tr style=\"text-align: right;\">\n",
       "      <th></th>\n",
       "      <th>Height</th>\n",
       "      <th>Names</th>\n",
       "      <th>Pref_food</th>\n",
       "      <th>Sex</th>\n",
       "      <th>Weight</th>\n",
       "    </tr>\n",
       "  </thead>\n",
       "  <tbody>\n",
       "    <tr>\n",
       "      <th>8</th>\n",
       "      <td>164</td>\n",
       "      <td>Laura</td>\n",
       "      <td>pizza</td>\n",
       "      <td>f</td>\n",
       "      <td>45</td>\n",
       "    </tr>\n",
       "    <tr>\n",
       "      <th>2</th>\n",
       "      <td>170</td>\n",
       "      <td>Francis</td>\n",
       "      <td>pasta</td>\n",
       "      <td>m</td>\n",
       "      <td>68</td>\n",
       "    </tr>\n",
       "  </tbody>\n",
       "</table>\n",
       "</div>"
      ],
      "text/plain": [
       "   Height    Names Pref_food Sex  Weight\n",
       "8     164    Laura     pizza   f      45\n",
       "2     170  Francis     pasta   m      68"
      ]
     },
     "execution_count": 38,
     "metadata": {},
     "output_type": "execute_result"
    }
   ],
   "source": [
    "df2.sample(n=2)"
   ]
  },
  {
   "cell_type": "code",
   "execution_count": null,
   "metadata": {
    "collapsed": true
   },
   "outputs": [],
   "source": [
    "# instead of extracting a number of cases, we can extract a percentage, with the argument frac= instead of n="
   ]
  },
  {
   "cell_type": "code",
   "execution_count": 46,
   "metadata": {},
   "outputs": [
    {
     "data": {
      "text/html": [
       "<div>\n",
       "<table border=\"1\" class=\"dataframe\">\n",
       "  <thead>\n",
       "    <tr style=\"text-align: right;\">\n",
       "      <th></th>\n",
       "      <th>Height</th>\n",
       "      <th>Names</th>\n",
       "      <th>Pref_food</th>\n",
       "      <th>Sex</th>\n",
       "      <th>Weight</th>\n",
       "    </tr>\n",
       "  </thead>\n",
       "  <tbody>\n",
       "    <tr>\n",
       "      <th>1</th>\n",
       "      <td>165</td>\n",
       "      <td>Kate</td>\n",
       "      <td>pizza</td>\n",
       "      <td>f</td>\n",
       "      <td>65</td>\n",
       "    </tr>\n",
       "  </tbody>\n",
       "</table>\n",
       "</div>"
      ],
      "text/plain": [
       "   Height Names Pref_food Sex  Weight\n",
       "1     165  Kate     pizza   f      65"
      ]
     },
     "execution_count": 46,
     "metadata": {},
     "output_type": "execute_result"
    }
   ],
   "source": [
    "df2.sample(frac = .1)"
   ]
  },
  {
   "cell_type": "code",
   "execution_count": 47,
   "metadata": {
    "collapsed": true
   },
   "outputs": [],
   "source": [
    "# we can view cases with the highest values for a certain variable by specifying the number of cases\n",
    "# in this case 3, and the column, in this case \"Weight\"\n",
    "# let us consider the df3 dataset that does not feature duplicates"
   ]
  },
  {
   "cell_type": "code",
   "execution_count": 48,
   "metadata": {},
   "outputs": [
    {
     "name": "stdout",
     "output_type": "stream",
     "text": [
      "   Height    Names Pref_food Sex  Weight\n",
      "0     180    Simon     steak   m      85\n",
      "5     175   Julian     steak   m      72\n",
      "2     170  Francis     pasta   m      68\n"
     ]
    }
   ],
   "source": [
    "print(df3.nlargest(3, \"Height\"))"
   ]
  },
  {
   "cell_type": "code",
   "execution_count": 49,
   "metadata": {},
   "outputs": [],
   "source": [
    "# let us now see the cases with the lowest values for a certain variable, also specifying the number of cases"
   ]
  },
  {
   "cell_type": "code",
   "execution_count": 50,
   "metadata": {},
   "outputs": [
    {
     "name": "stdout",
     "output_type": "stream",
     "text": [
      "   Height  Names   Pref_food Sex  Weight\n",
      "4     163   Mary  vegetables   f      43\n",
      "3     164  Laura       pizza   f      45\n",
      "6     166  Rosie     seafood   f      46\n",
      "1     165   Kate       pizza   f      65\n"
     ]
    }
   ],
   "source": [
    "print(df3.nsmallest(4, \"Weight\"))"
   ]
  },
  {
   "cell_type": "code",
   "execution_count": 51,
   "metadata": {
    "collapsed": true
   },
   "outputs": [],
   "source": [
    "# finally, we create a small dataset and reorganize data with the pivot_table() function"
   ]
  },
  {
   "cell_type": "code",
   "execution_count": 52,
   "metadata": {
    "collapsed": true
   },
   "outputs": [],
   "source": [
    "df4 = pd.DataFrame({'Date': ['2017-01-01', '2017-01-01', '2017-01-02', '2017-01-01', '2017-01-02', '2017-01-02', '2017-01-03', '2017-01-02', '2017-01-03', '2017-01-03'],\n",
    "                   'Type':['x', 'x', 'y', 'x', 'y', 'x', 'z', 'y', 'z', 'y'],\n",
    "                   'Value':[185, 265, 168, 245, 143, 172, 346, 285, 145, 128],\n",
    "                   })"
   ]
  },
  {
   "cell_type": "code",
   "execution_count": 53,
   "metadata": {},
   "outputs": [
    {
     "name": "stdout",
     "output_type": "stream",
     "text": [
      "         Date Type  Value\n",
      "0  2017-01-01    x    185\n",
      "1  2017-01-01    x    265\n",
      "2  2017-01-02    y    168\n",
      "3  2017-01-01    x    245\n",
      "4  2017-01-02    y    143\n",
      "5  2017-01-02    x    172\n",
      "6  2017-01-03    z    346\n",
      "7  2017-01-02    y    285\n",
      "8  2017-01-03    z    145\n",
      "9  2017-01-03    y    128\n"
     ]
    }
   ],
   "source": [
    "print(df4)"
   ]
  },
  {
   "cell_type": "code",
   "execution_count": 54,
   "metadata": {},
   "outputs": [
    {
     "name": "stdout",
     "output_type": "stream",
     "text": [
      "Type                 x           y      z\n",
      "Date                                     \n",
      "2017-01-01  231.666667         NaN    NaN\n",
      "2017-01-02  172.000000  198.666667    NaN\n",
      "2017-01-03         NaN  128.000000  245.5\n"
     ]
    }
   ],
   "source": [
    "print(pd.pivot_table(df4, index = \"Date\", values = \"Value\", columns = \"Type\"))"
   ]
  },
  {
   "cell_type": "code",
   "execution_count": null,
   "metadata": {
    "collapsed": true
   },
   "outputs": [],
   "source": []
  }
 ],
 "metadata": {
  "anaconda-cloud": {},
  "kernelspec": {
   "display_name": "Python 3",
   "language": "python",
   "name": "python3"
  },
  "language_info": {
   "codemirror_mode": {
    "name": "ipython",
    "version": 3
   },
   "file_extension": ".py",
   "mimetype": "text/x-python",
   "name": "python",
   "nbconvert_exporter": "python",
   "pygments_lexer": "ipython3",
   "version": "3.6.1"
  }
 },
 "nbformat": 4,
 "nbformat_minor": 1
}
