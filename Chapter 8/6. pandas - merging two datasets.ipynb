{
 "cells": [
  {
   "cell_type": "markdown",
   "metadata": {},
   "source": [
    "# pandas - merging two datasets"
   ]
  },
  {
   "cell_type": "code",
   "execution_count": 2,
   "metadata": {
    "collapsed": true
   },
   "outputs": [],
   "source": [
    "import pandas as pd"
   ]
  },
  {
   "cell_type": "code",
   "execution_count": 1,
   "metadata": {
    "collapsed": true
   },
   "outputs": [],
   "source": [
    "# let's create some dataset"
   ]
  },
  {
   "cell_type": "code",
   "execution_count": 7,
   "metadata": {},
   "outputs": [],
   "source": [
    "df1 = pd.DataFrame({'id': ['A', 'B', 'C', 'D'], 'var1' : [37, 36, 43, 23], 'var2': [120, 117, 230, 315]})"
   ]
  },
  {
   "cell_type": "code",
   "execution_count": 8,
   "metadata": {},
   "outputs": [
    {
     "name": "stdout",
     "output_type": "stream",
     "text": [
      "  id  var1  var2\n",
      "0  A    37   120\n",
      "1  B    36   117\n",
      "2  C    43   230\n",
      "3  D    23   315\n"
     ]
    }
   ],
   "source": [
    "print(df1)"
   ]
  },
  {
   "cell_type": "code",
   "execution_count": 9,
   "metadata": {
    "collapsed": true
   },
   "outputs": [],
   "source": [
    "df2 = pd.DataFrame({'id': ['A', 'B', 'C', 'D'], 'var3' : [12, 16, 13, 18], 'var4': [75, 54, 21, 36]})"
   ]
  },
  {
   "cell_type": "code",
   "execution_count": 10,
   "metadata": {},
   "outputs": [
    {
     "name": "stdout",
     "output_type": "stream",
     "text": [
      "  id  var3  var4\n",
      "0  A    12    75\n",
      "1  B    16    54\n",
      "2  C    13    21\n",
      "3  D    18    36\n"
     ]
    }
   ],
   "source": [
    "print(df2)"
   ]
  },
  {
   "cell_type": "code",
   "execution_count": 11,
   "metadata": {},
   "outputs": [],
   "source": [
    "df3 = pd.DataFrame({'id': ['A', 'A', 'B', 'B'], 'var3' : [2, 6, 3, 8], 'var4': [7, 5, 2, 6]})"
   ]
  },
  {
   "cell_type": "code",
   "execution_count": 12,
   "metadata": {},
   "outputs": [
    {
     "name": "stdout",
     "output_type": "stream",
     "text": [
      "  id  var3  var4\n",
      "0  A     2     7\n",
      "1  A     6     5\n",
      "2  B     3     2\n",
      "3  B     8     6\n"
     ]
    }
   ],
   "source": [
    "print(df3)"
   ]
  },
  {
   "cell_type": "code",
   "execution_count": 13,
   "metadata": {},
   "outputs": [
    {
     "data": {
      "text/html": [
       "<div>\n",
       "<table border=\"1\" class=\"dataframe\">\n",
       "  <thead>\n",
       "    <tr style=\"text-align: right;\">\n",
       "      <th></th>\n",
       "      <th>id</th>\n",
       "      <th>var1</th>\n",
       "      <th>var2</th>\n",
       "      <th>var3</th>\n",
       "      <th>var4</th>\n",
       "    </tr>\n",
       "  </thead>\n",
       "  <tbody>\n",
       "    <tr>\n",
       "      <th>0</th>\n",
       "      <td>A</td>\n",
       "      <td>37.0</td>\n",
       "      <td>120.0</td>\n",
       "      <td>NaN</td>\n",
       "      <td>NaN</td>\n",
       "    </tr>\n",
       "    <tr>\n",
       "      <th>1</th>\n",
       "      <td>B</td>\n",
       "      <td>36.0</td>\n",
       "      <td>117.0</td>\n",
       "      <td>NaN</td>\n",
       "      <td>NaN</td>\n",
       "    </tr>\n",
       "    <tr>\n",
       "      <th>2</th>\n",
       "      <td>C</td>\n",
       "      <td>43.0</td>\n",
       "      <td>230.0</td>\n",
       "      <td>NaN</td>\n",
       "      <td>NaN</td>\n",
       "    </tr>\n",
       "    <tr>\n",
       "      <th>3</th>\n",
       "      <td>D</td>\n",
       "      <td>23.0</td>\n",
       "      <td>315.0</td>\n",
       "      <td>NaN</td>\n",
       "      <td>NaN</td>\n",
       "    </tr>\n",
       "    <tr>\n",
       "      <th>0</th>\n",
       "      <td>A</td>\n",
       "      <td>NaN</td>\n",
       "      <td>NaN</td>\n",
       "      <td>12.0</td>\n",
       "      <td>75.0</td>\n",
       "    </tr>\n",
       "    <tr>\n",
       "      <th>1</th>\n",
       "      <td>B</td>\n",
       "      <td>NaN</td>\n",
       "      <td>NaN</td>\n",
       "      <td>16.0</td>\n",
       "      <td>54.0</td>\n",
       "    </tr>\n",
       "    <tr>\n",
       "      <th>2</th>\n",
       "      <td>C</td>\n",
       "      <td>NaN</td>\n",
       "      <td>NaN</td>\n",
       "      <td>13.0</td>\n",
       "      <td>21.0</td>\n",
       "    </tr>\n",
       "    <tr>\n",
       "      <th>3</th>\n",
       "      <td>D</td>\n",
       "      <td>NaN</td>\n",
       "      <td>NaN</td>\n",
       "      <td>18.0</td>\n",
       "      <td>36.0</td>\n",
       "    </tr>\n",
       "  </tbody>\n",
       "</table>\n",
       "</div>"
      ],
      "text/plain": [
       "  id  var1   var2  var3  var4\n",
       "0  A  37.0  120.0   NaN   NaN\n",
       "1  B  36.0  117.0   NaN   NaN\n",
       "2  C  43.0  230.0   NaN   NaN\n",
       "3  D  23.0  315.0   NaN   NaN\n",
       "0  A   NaN    NaN  12.0  75.0\n",
       "1  B   NaN    NaN  16.0  54.0\n",
       "2  C   NaN    NaN  13.0  21.0\n",
       "3  D   NaN    NaN  18.0  36.0"
      ]
     },
     "execution_count": 13,
     "metadata": {},
     "output_type": "execute_result"
    }
   ],
   "source": [
    "df1.append(df2)"
   ]
  },
  {
   "cell_type": "code",
   "execution_count": 14,
   "metadata": {},
   "outputs": [
    {
     "name": "stdout",
     "output_type": "stream",
     "text": [
      "  id  var1   var2  var3  var4\n",
      "0  A   NaN    NaN   2.0   7.0\n",
      "1  A   NaN    NaN   6.0   5.0\n",
      "2  B   NaN    NaN   3.0   2.0\n",
      "3  B   NaN    NaN   8.0   6.0\n",
      "0  A  37.0  120.0   NaN   NaN\n",
      "1  B  36.0  117.0   NaN   NaN\n",
      "2  C  43.0  230.0   NaN   NaN\n",
      "3  D  23.0  315.0   NaN   NaN\n"
     ]
    }
   ],
   "source": [
    "print(df3.append(df1))"
   ]
  },
  {
   "cell_type": "code",
   "execution_count": null,
   "metadata": {
    "collapsed": true
   },
   "outputs": [],
   "source": [
    "# to join more datasets we can use .concat() from pandas"
   ]
  },
  {
   "cell_type": "code",
   "execution_count": 15,
   "metadata": {},
   "outputs": [
    {
     "name": "stdout",
     "output_type": "stream",
     "text": [
      "  id  var1   var2  var3  var4\n",
      "0  A  37.0  120.0   NaN   NaN\n",
      "1  B  36.0  117.0   NaN   NaN\n",
      "2  C  43.0  230.0   NaN   NaN\n",
      "3  D  23.0  315.0   NaN   NaN\n",
      "0  A   NaN    NaN  12.0  75.0\n",
      "1  B   NaN    NaN  16.0  54.0\n",
      "2  C   NaN    NaN  13.0  21.0\n",
      "3  D   NaN    NaN  18.0  36.0\n",
      "0  A   NaN    NaN   2.0   7.0\n",
      "1  A   NaN    NaN   6.0   5.0\n",
      "2  B   NaN    NaN   3.0   2.0\n",
      "3  B   NaN    NaN   8.0   6.0\n"
     ]
    }
   ],
   "source": [
    "print(pd.concat([df1, df2, df3]))"
   ]
  },
  {
   "cell_type": "code",
   "execution_count": 16,
   "metadata": {},
   "outputs": [
    {
     "name": "stdout",
     "output_type": "stream",
     "text": [
      "  id  var1  var2 id  var3  var4 id  var3  var4\n",
      "0  A    37   120  A    12    75  A     2     7\n",
      "1  B    36   117  B    16    54  A     6     5\n",
      "2  C    43   230  C    13    21  B     3     2\n",
      "3  D    23   315  D    18    36  B     8     6\n"
     ]
    }
   ],
   "source": [
    "print(pd.concat([df1, df2, df3], axis = 1))"
   ]
  },
  {
   "cell_type": "code",
   "execution_count": 17,
   "metadata": {},
   "outputs": [
    {
     "data": {
      "text/html": [
       "<div>\n",
       "<table border=\"1\" class=\"dataframe\">\n",
       "  <thead>\n",
       "    <tr style=\"text-align: right;\">\n",
       "      <th></th>\n",
       "      <th>id</th>\n",
       "      <th>var1</th>\n",
       "      <th>var2</th>\n",
       "      <th>id</th>\n",
       "      <th>var3</th>\n",
       "      <th>var4</th>\n",
       "      <th>id</th>\n",
       "      <th>var3</th>\n",
       "      <th>var4</th>\n",
       "    </tr>\n",
       "  </thead>\n",
       "  <tbody>\n",
       "    <tr>\n",
       "      <th>0</th>\n",
       "      <td>A</td>\n",
       "      <td>37</td>\n",
       "      <td>120</td>\n",
       "      <td>A</td>\n",
       "      <td>12</td>\n",
       "      <td>75</td>\n",
       "      <td>A</td>\n",
       "      <td>2</td>\n",
       "      <td>7</td>\n",
       "    </tr>\n",
       "    <tr>\n",
       "      <th>1</th>\n",
       "      <td>B</td>\n",
       "      <td>36</td>\n",
       "      <td>117</td>\n",
       "      <td>B</td>\n",
       "      <td>16</td>\n",
       "      <td>54</td>\n",
       "      <td>A</td>\n",
       "      <td>6</td>\n",
       "      <td>5</td>\n",
       "    </tr>\n",
       "    <tr>\n",
       "      <th>2</th>\n",
       "      <td>C</td>\n",
       "      <td>43</td>\n",
       "      <td>230</td>\n",
       "      <td>C</td>\n",
       "      <td>13</td>\n",
       "      <td>21</td>\n",
       "      <td>B</td>\n",
       "      <td>3</td>\n",
       "      <td>2</td>\n",
       "    </tr>\n",
       "    <tr>\n",
       "      <th>3</th>\n",
       "      <td>D</td>\n",
       "      <td>23</td>\n",
       "      <td>315</td>\n",
       "      <td>D</td>\n",
       "      <td>18</td>\n",
       "      <td>36</td>\n",
       "      <td>B</td>\n",
       "      <td>8</td>\n",
       "      <td>6</td>\n",
       "    </tr>\n",
       "  </tbody>\n",
       "</table>\n",
       "</div>"
      ],
      "text/plain": [
       "  id  var1  var2 id  var3  var4 id  var3  var4\n",
       "0  A    37   120  A    12    75  A     2     7\n",
       "1  B    36   117  B    16    54  A     6     5\n",
       "2  C    43   230  C    13    21  B     3     2\n",
       "3  D    23   315  D    18    36  B     8     6"
      ]
     },
     "execution_count": 17,
     "metadata": {},
     "output_type": "execute_result"
    }
   ],
   "source": [
    "pd.concat([df1, df2, df3], axis = 'columns')"
   ]
  },
  {
   "cell_type": "code",
   "execution_count": 20,
   "metadata": {
    "collapsed": true
   },
   "outputs": [],
   "source": [
    "stud1 = pd.DataFrame({'ID': [1,2,3,4,5], 'names' : ['John', 'Greta', 'Francis', 'Laura', 'Charles'], 'Logic': [28, 27, 23, 25, 30]})"
   ]
  },
  {
   "cell_type": "code",
   "execution_count": 21,
   "metadata": {},
   "outputs": [
    {
     "name": "stdout",
     "output_type": "stream",
     "text": [
      "   ID  Logic    names\n",
      "0   1     28     John\n",
      "1   2     27    Greta\n",
      "2   3     23  Francis\n",
      "3   4     25    Laura\n",
      "4   5     30  Charles\n"
     ]
    }
   ],
   "source": [
    "print(stud1)"
   ]
  },
  {
   "cell_type": "code",
   "execution_count": 19,
   "metadata": {},
   "outputs": [],
   "source": [
    "stud2 = pd.DataFrame({'ID': [1,6,3,4,7], 'names' : ['John', 'Kate', 'Francis', 'Laura', 'Simon'], 'Analysis': [23, 24, 28, 29, 22]})"
   ]
  },
  {
   "cell_type": "code",
   "execution_count": 22,
   "metadata": {},
   "outputs": [
    {
     "name": "stdout",
     "output_type": "stream",
     "text": [
      "   Analysis  ID    names\n",
      "0        23   1     John\n",
      "1        24   6     Kate\n",
      "2        28   3  Francis\n",
      "3        29   4    Laura\n",
      "4        22   7    Simon\n"
     ]
    }
   ],
   "source": [
    "print(stud2)"
   ]
  },
  {
   "cell_type": "code",
   "execution_count": null,
   "metadata": {
    "collapsed": true
   },
   "outputs": [],
   "source": [
    "# by default, the merge() function extracts common cases to the two datasets, so it is 'inner' by default"
   ]
  },
  {
   "cell_type": "code",
   "execution_count": 23,
   "metadata": {},
   "outputs": [
    {
     "name": "stdout",
     "output_type": "stream",
     "text": [
      "   ID  Logic  names_x  Analysis  names_y\n",
      "0   1     28     John        23     John\n",
      "1   3     23  Francis        28  Francis\n",
      "2   4     25    Laura        29    Laura\n"
     ]
    }
   ],
   "source": [
    "print(pd.merge(stud1, stud2, on = 'ID'))"
   ]
  },
  {
   "cell_type": "code",
   "execution_count": 24,
   "metadata": {},
   "outputs": [
    {
     "name": "stdout",
     "output_type": "stream",
     "text": [
      "   ID  Logic  names_x  Analysis  names_y\n",
      "0   1     28     John      23.0     John\n",
      "1   2     27    Greta       NaN      NaN\n",
      "2   3     23  Francis      28.0  Francis\n",
      "3   4     25    Laura      29.0    Laura\n",
      "4   5     30  Charles       NaN      NaN\n"
     ]
    }
   ],
   "source": [
    "print(pd.merge(stud1, stud2, on = 'ID', how = 'left'))"
   ]
  },
  {
   "cell_type": "code",
   "execution_count": 25,
   "metadata": {},
   "outputs": [
    {
     "name": "stdout",
     "output_type": "stream",
     "text": [
      "   ID  Logic  names_x  Analysis  names_y\n",
      "0   1   28.0     John        23     John\n",
      "1   3   23.0  Francis        28  Francis\n",
      "2   4   25.0    Laura        29    Laura\n",
      "3   6    NaN      NaN        24     Kate\n",
      "4   7    NaN      NaN        22    Simon\n"
     ]
    }
   ],
   "source": [
    "print(pd.merge(stud1, stud2, on = 'ID', how = 'right'))"
   ]
  },
  {
   "cell_type": "code",
   "execution_count": null,
   "metadata": {
    "collapsed": true
   },
   "outputs": [],
   "source": [
    "# through 'outer' we merge the cases of the two dataframes \n",
    "# holding only a copy of the double cases but without losing some of the data from one of the two initial datasets"
   ]
  },
  {
   "cell_type": "code",
   "execution_count": 26,
   "metadata": {},
   "outputs": [
    {
     "name": "stdout",
     "output_type": "stream",
     "text": [
      "   ID  Logic  names_x  Analysis  names_y\n",
      "0   1   28.0     John      23.0     John\n",
      "1   2   27.0    Greta       NaN      NaN\n",
      "2   3   23.0  Francis      28.0  Francis\n",
      "3   4   25.0    Laura      29.0    Laura\n",
      "4   5   30.0  Charles       NaN      NaN\n",
      "5   6    NaN      NaN      24.0     Kate\n",
      "6   7    NaN      NaN      22.0    Simon\n"
     ]
    }
   ],
   "source": [
    "print(pd.merge(stud1, stud2, on = 'ID', how = 'outer'))"
   ]
  },
  {
   "cell_type": "code",
   "execution_count": null,
   "metadata": {
    "collapsed": true
   },
   "outputs": [],
   "source": []
  }
 ],
 "metadata": {
  "kernelspec": {
   "display_name": "Python 3",
   "language": "python",
   "name": "python3"
  },
  "language_info": {
   "codemirror_mode": {
    "name": "ipython",
    "version": 3
   },
   "file_extension": ".py",
   "mimetype": "text/x-python",
   "name": "python",
   "nbconvert_exporter": "python",
   "pygments_lexer": "ipython3",
   "version": "3.6.1"
  }
 },
 "nbformat": 4,
 "nbformat_minor": 1
}
