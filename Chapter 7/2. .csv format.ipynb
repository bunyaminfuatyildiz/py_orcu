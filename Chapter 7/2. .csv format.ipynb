{
 "cells": [
  {
   "cell_type": "markdown",
   "metadata": {},
   "source": [
    "# Il formato .csv"
   ]
  },
  {
   "cell_type": "code",
   "execution_count": null,
   "metadata": {
    "collapsed": true
   },
   "outputs": [],
   "source": [
    "# .csv format"
   ]
  },
  {
   "cell_type": "code",
   "execution_count": 5,
   "metadata": {
    "collapsed": true
   },
   "outputs": [],
   "source": [
    "import csv"
   ]
  },
  {
   "cell_type": "code",
   "execution_count": 6,
   "metadata": {},
   "outputs": [],
   "source": [
    "csv1 = open('df.csv', 'r')"
   ]
  },
  {
   "cell_type": "code",
   "execution_count": null,
   "metadata": {
    "collapsed": true
   },
   "outputs": [],
   "source": [
    "# csv2 = open('user/vp/desktop/df2', 'r')"
   ]
  },
  {
   "cell_type": "code",
   "execution_count": 1,
   "metadata": {
    "collapsed": true
   },
   "outputs": [],
   "source": [
    "# let's read the first file"
   ]
  },
  {
   "cell_type": "code",
   "execution_count": 7,
   "metadata": {
    "collapsed": true
   },
   "outputs": [],
   "source": [
    "read = csv.reader(csv1)"
   ]
  },
  {
   "cell_type": "code",
   "execution_count": 8,
   "metadata": {},
   "outputs": [
    {
     "name": "stdout",
     "output_type": "stream",
     "text": [
      "['', '0', '1', '2', '3', '4']\n",
      "['0', '15.982938813888007', '96.04182101708831', '74.68301929612825', '31.670249691004994', '50.37042800222742']\n",
      "['1', '41.73600940479237', '27.227410362859622', '74.23838198511905', '27.89524658473469', '57.76074144587645']\n",
      "['2', '21.0208137504411', '32.800452414450085', '16.93452307578106', '99.97206014759914', '96.60339506195103']\n",
      "['3', '54.0625496677998', '97.5812846323224', '50.324002229995784', '37.43309579393854', '69.98076338477294']\n",
      "['4', '6.686918124827163', '98.8189596364265', '74.92492713503735', '4.40469241816103', '55.192298422044495']\n",
      "['5', '43.838100579900306', '11.870205276207537', '80.9391797191538', '7.470021205736569', '33.99100278934014']\n",
      "['6', '39.55058136282197', '38.750000777982336', '81.1673243303349', '20.916708048301142', '41.39392215481743']\n",
      "['7', '58.04370288525028', '3.7115178815039123', '87.30052534827857', '76.01454029107242', '91.31002952341693']\n",
      "['8', '85.02891662152591', '94.27608856733288', '37.8569718391703', '65.16402897428958', '60.92216885817347']\n",
      "['9', '98.25872709380457', '46.521259581306396', '19.51960091174771', '4.371612908600958', '32.7929690387362']\n"
     ]
    }
   ],
   "source": [
    "for row in read:\n",
    "    print(row)"
   ]
  }
 ],
 "metadata": {
  "kernelspec": {
   "display_name": "Python 3",
   "language": "python",
   "name": "python3"
  },
  "language_info": {
   "codemirror_mode": {
    "name": "ipython",
    "version": 3
   },
   "file_extension": ".py",
   "mimetype": "text/x-python",
   "name": "python",
   "nbconvert_exporter": "python",
   "pygments_lexer": "ipython3",
   "version": "3.6.1"
  }
 },
 "nbformat": 4,
 "nbformat_minor": 2
}
