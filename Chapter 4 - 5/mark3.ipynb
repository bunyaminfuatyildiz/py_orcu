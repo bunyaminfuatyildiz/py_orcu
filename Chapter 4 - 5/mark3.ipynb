{
 "cells": [
  {
   "cell_type": "code",
   "execution_count": 3,
   "metadata": {},
   "outputs": [
    {
     "name": "stdout",
     "output_type": "stream",
     "text": [
      "Enter your score: \n",
      "80\n",
      "Your result is B\n"
     ]
    }
   ],
   "source": [
    "print(\"Enter your score: \")\n",
    "mark = int(input())\n",
    "if 90 <= mark <= 100:\n",
    "    output = \"A\"\n",
    "elif 80 <= mark <= 89:\n",
    "    output = \"B\"\n",
    "elif 70 <= mark <= 79:\n",
    "    output = \"C\"\n",
    "elif 60 <= mark <= 69:\n",
    "    output = \"D\"\n",
    "elif mark <= 59:\n",
    "    output = \"F\"\n",
    "else:\n",
    "    print(\"I don’t understand, try again\")\n",
    "print(\"Your result is \" + output)"
   ]
  },
  {
   "cell_type": "code",
   "execution_count": null,
   "metadata": {
    "collapsed": true
   },
   "outputs": [],
   "source": []
  }
 ],
 "metadata": {
  "kernelspec": {
   "display_name": "Python 3",
   "language": "python",
   "name": "python3"
  },
  "language_info": {
   "codemirror_mode": {
    "name": "ipython",
    "version": 3
   },
   "file_extension": ".py",
   "mimetype": "text/x-python",
   "name": "python",
   "nbconvert_exporter": "python",
   "pygments_lexer": "ipython3",
   "version": "3.6.1"
  }
 },
 "nbformat": 4,
 "nbformat_minor": 2
}
