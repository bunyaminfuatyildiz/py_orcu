{
 "cells": [
  {
   "cell_type": "code",
   "execution_count": 1,
   "metadata": {},
   "outputs": [
    {
     "name": "stdout",
     "output_type": "stream",
     "text": [
      "Enter your score: \n",
      "70\n",
      "Your result is C\n"
     ]
    }
   ],
   "source": [
    "print \"Enter your score: \"\n",
    "mark = int(raw_input())\n",
    "if 90 <= mark <= 100:\n",
    "    output = \"A\"\n",
    "elif 80 <= mark <= 89:\n",
    "    output = \"B\"\n",
    "elif 70 <= mark <= 79:\n",
    "    output = \"C\"\n",
    "elif 60 <= mark <= 69:\n",
    "    output = \"D\"\n",
    "elif mark <= 59:\n",
    "    output = \"F\"\n",
    "else:\n",
    "    print \"I don’t understand, try again\"\n",
    "print \"Your result is \" + output"
   ]
  },
  {
   "cell_type": "code",
   "execution_count": null,
   "metadata": {
    "collapsed": true
   },
   "outputs": [],
   "source": []
  }
 ],
 "metadata": {
  "kernelspec": {
   "display_name": "Python 2",
   "language": "python",
   "name": "python2"
  },
  "language_info": {
   "codemirror_mode": {
    "name": "ipython",
    "version": 2
   },
   "file_extension": ".py",
   "mimetype": "text/x-python",
   "name": "python",
   "nbconvert_exporter": "python",
   "pygments_lexer": "ipython2",
   "version": "2.7.13"
  }
 },
 "nbformat": 4,
 "nbformat_minor": 2
}
