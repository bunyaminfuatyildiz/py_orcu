{
 "cells": [
  {
   "cell_type": "markdown",
   "metadata": {},
   "source": [
    "# Numpy - generating random numbers and seeds"
   ]
  },
  {
   "cell_type": "code",
   "execution_count": 4,
   "metadata": {
    "collapsed": true
   },
   "outputs": [],
   "source": [
    "import numpy as np"
   ]
  },
  {
   "cell_type": "code",
   "execution_count": 5,
   "metadata": {},
   "outputs": [
    {
     "data": {
      "text/plain": [
       "0.9296160928171479"
      ]
     },
     "execution_count": 5,
     "metadata": {},
     "output_type": "execute_result"
    }
   ],
   "source": [
    "np.random.rand()"
   ]
  },
  {
   "cell_type": "code",
   "execution_count": 6,
   "metadata": {},
   "outputs": [
    {
     "data": {
      "text/plain": [
       "array([[ 0.31637555,  0.18391881,  0.20456028],\n",
       "       [ 0.56772503,  0.5955447 ,  0.96451452]])"
      ]
     },
     "execution_count": 6,
     "metadata": {},
     "output_type": "execute_result"
    }
   ],
   "source": [
    "np.random.rand(2,3)"
   ]
  },
  {
   "cell_type": "code",
   "execution_count": 7,
   "metadata": {},
   "outputs": [
    {
     "data": {
      "text/plain": [
       "array([9, 7, 6, 0, 2, 9, 1, 2])"
      ]
     },
     "execution_count": 7,
     "metadata": {},
     "output_type": "execute_result"
    }
   ],
   "source": [
    "np.random.randint(10, size= 8) "
   ]
  },
  {
   "cell_type": "code",
   "execution_count": 8,
   "metadata": {},
   "outputs": [
    {
     "data": {
      "text/plain": [
       "array([[6, 7, 7, 7, 8],\n",
       "       [7, 1, 7, 4, 0],\n",
       "       [3, 5, 7, 3, 1],\n",
       "       [5, 2, 5, 3, 8]])"
      ]
     },
     "execution_count": 8,
     "metadata": {},
     "output_type": "execute_result"
    }
   ],
   "source": [
    "np.random.randint(10, size=(4, 5)) "
   ]
  },
  {
   "cell_type": "code",
   "execution_count": 9,
   "metadata": {},
   "outputs": [
    {
     "data": {
      "text/plain": [
       "array([[[5, 2, 5, 3, 0, 6],\n",
       "        [8, 0, 5, 6, 8, 9],\n",
       "        [2, 2, 2, 9, 7, 5],\n",
       "        [7, 1, 0, 9, 3, 0],\n",
       "        [3, 0, 6, 2, 1, 5]],\n",
       "\n",
       "       [[8, 6, 5, 1, 0, 5],\n",
       "        [8, 2, 9, 4, 7, 9],\n",
       "        [5, 2, 4, 8, 2, 5],\n",
       "        [6, 5, 9, 6, 1, 9],\n",
       "        [5, 0, 8, 8, 2, 0]],\n",
       "\n",
       "       [[2, 0, 6, 5, 3, 2],\n",
       "        [7, 4, 7, 2, 3, 6],\n",
       "        [0, 5, 4, 1, 9, 5],\n",
       "        [1, 2, 3, 8, 0, 9],\n",
       "        [3, 5, 3, 8, 9, 3]],\n",
       "\n",
       "       [[8, 9, 7, 4, 9, 8],\n",
       "        [9, 0, 1, 6, 6, 2],\n",
       "        [0, 5, 7, 8, 2, 5],\n",
       "        [6, 1, 9, 0, 8, 7],\n",
       "        [6, 9, 5, 5, 0, 0]]])"
      ]
     },
     "execution_count": 9,
     "metadata": {},
     "output_type": "execute_result"
    }
   ],
   "source": [
    "np.random.randint(10, size=(4, 5, 6)) "
   ]
  },
  {
   "cell_type": "code",
   "execution_count": null,
   "metadata": {
    "collapsed": true
   },
   "outputs": [],
   "source": [
    "# set a seed"
   ]
  },
  {
   "cell_type": "code",
   "execution_count": 10,
   "metadata": {
    "collapsed": true
   },
   "outputs": [],
   "source": [
    "np.random.seed(12345)"
   ]
  },
  {
   "cell_type": "code",
   "execution_count": 11,
   "metadata": {},
   "outputs": [
    {
     "data": {
      "text/plain": [
       "0.9296160928171479"
      ]
     },
     "execution_count": 11,
     "metadata": {},
     "output_type": "execute_result"
    }
   ],
   "source": [
    "np.random.rand()"
   ]
  },
  {
   "cell_type": "code",
   "execution_count": 12,
   "metadata": {},
   "outputs": [
    {
     "data": {
      "text/plain": [
       "0.3163755545817859"
      ]
     },
     "execution_count": 12,
     "metadata": {},
     "output_type": "execute_result"
    }
   ],
   "source": [
    "np.random.rand()"
   ]
  },
  {
   "cell_type": "code",
   "execution_count": 13,
   "metadata": {
    "collapsed": true
   },
   "outputs": [],
   "source": [
    "np.random.seed(12345)"
   ]
  },
  {
   "cell_type": "code",
   "execution_count": 14,
   "metadata": {},
   "outputs": [
    {
     "data": {
      "text/plain": [
       "0.9296160928171479"
      ]
     },
     "execution_count": 14,
     "metadata": {},
     "output_type": "execute_result"
    }
   ],
   "source": [
    "np.random.rand()"
   ]
  },
  {
   "cell_type": "code",
   "execution_count": 15,
   "metadata": {},
   "outputs": [
    {
     "data": {
      "text/plain": [
       "0.3163755545817859"
      ]
     },
     "execution_count": 15,
     "metadata": {},
     "output_type": "execute_result"
    }
   ],
   "source": [
    "np.random.rand()"
   ]
  },
  {
   "cell_type": "code",
   "execution_count": 16,
   "metadata": {
    "collapsed": true
   },
   "outputs": [],
   "source": [
    "test1 = [\"oggetto1\", \"oggetto2\", \"oggetto3\", \"oggetto4\", \"oggetto5\"]"
   ]
  },
  {
   "cell_type": "code",
   "execution_count": 19,
   "metadata": {},
   "outputs": [
    {
     "name": "stdout",
     "output_type": "stream",
     "text": [
      "oggetto2\n"
     ]
    }
   ],
   "source": [
    "print(np.random.choice(test1))"
   ]
  },
  {
   "cell_type": "code",
   "execution_count": 20,
   "metadata": {},
   "outputs": [
    {
     "data": {
      "text/plain": [
       "'oggetto3'"
      ]
     },
     "execution_count": 20,
     "metadata": {},
     "output_type": "execute_result"
    }
   ],
   "source": [
    "np.random.choice(test1)"
   ]
  },
  {
   "cell_type": "code",
   "execution_count": 21,
   "metadata": {
    "collapsed": true
   },
   "outputs": [],
   "source": [
    "x = np.random.randn(10000)"
   ]
  },
  {
   "cell_type": "code",
   "execution_count": null,
   "metadata": {
    "collapsed": true
   },
   "outputs": [],
   "source": [
    "# Matplotlib"
   ]
  },
  {
   "cell_type": "code",
   "execution_count": 31,
   "metadata": {
    "collapsed": true
   },
   "outputs": [],
   "source": [
    "import matplotlib as mlp\n",
    "import matplotlib.pyplot as plt"
   ]
  },
  {
   "cell_type": "code",
   "execution_count": 32,
   "metadata": {},
   "outputs": [
    {
     "data": {
      "image/png": "[encoded data removed]",
      "text/plain": [
       "<matplotlib.figure.Figure at 0x115755160>"
      ]
     },
     "metadata": {},
     "output_type": "display_data"
    }
   ],
   "source": [
    "plt.hist(x, bins = 100)\n",
    "plt.show()"
   ]
  },
  {
   "cell_type": "code",
   "execution_count": null,
   "metadata": {
    "collapsed": true
   },
   "outputs": [],
   "source": [
    "# generate some random datasets"
   ]
  },
  {
   "cell_type": "code",
   "execution_count": 34,
   "metadata": {
    "collapsed": true
   },
   "outputs": [],
   "source": [
    "import pandas as pd"
   ]
  },
  {
   "cell_type": "code",
   "execution_count": 36,
   "metadata": {
    "collapsed": true
   },
   "outputs": [],
   "source": [
    "rdf = pd.DataFrame(np.random.randn(10, 5))"
   ]
  },
  {
   "cell_type": "code",
   "execution_count": 37,
   "metadata": {},
   "outputs": [
    {
     "name": "stdout",
     "output_type": "stream",
     "text": [
      "          0         1         2         3         4\n",
      "0  0.216142  0.606477 -1.963405 -0.521792 -1.054599\n",
      "1 -0.908552  0.478058  0.689984 -0.728344 -0.328966\n",
      "2 -0.992419  0.357030 -1.422867 -0.354950  0.316492\n",
      "3  0.232392  0.127426 -1.874143 -0.383953 -0.640004\n",
      "4 -3.537833  0.887934 -0.844730 -0.564775 -1.264466\n",
      "5  0.045573 -1.352096 -1.115417  0.062628  0.019499\n",
      "6  2.290580  1.382481  0.304522  0.919074 -0.224893\n",
      "7  0.941403  0.746143 -0.945379 -0.335496 -0.092736\n",
      "8  0.504028 -1.110564 -1.868028 -1.425388  0.287202\n",
      "9 -0.217894  1.537239  1.200259  0.900506 -0.183952\n"
     ]
    }
   ],
   "source": [
    "print(rdf)"
   ]
  },
  {
   "cell_type": "code",
   "execution_count": 38,
   "metadata": {
    "collapsed": true
   },
   "outputs": [],
   "source": [
    "np.random.seed(12345)"
   ]
  },
  {
   "cell_type": "code",
   "execution_count": 39,
   "metadata": {
    "collapsed": true
   },
   "outputs": [],
   "source": [
    "rdf = pd.DataFrame(np.random.randn(10,5))"
   ]
  },
  {
   "cell_type": "code",
   "execution_count": 40,
   "metadata": {},
   "outputs": [
    {
     "data": {
      "text/html": [
       "<div>\n",
       "<table border=\"1\" class=\"dataframe\">\n",
       "  <thead>\n",
       "    <tr style=\"text-align: right;\">\n",
       "      <th></th>\n",
       "      <th>0</th>\n",
       "      <th>1</th>\n",
       "      <th>2</th>\n",
       "      <th>3</th>\n",
       "      <th>4</th>\n",
       "    </tr>\n",
       "  </thead>\n",
       "  <tbody>\n",
       "    <tr>\n",
       "      <th>0</th>\n",
       "      <td>-0.204708</td>\n",
       "      <td>0.478943</td>\n",
       "      <td>-0.519439</td>\n",
       "      <td>-0.555730</td>\n",
       "      <td>1.965781</td>\n",
       "    </tr>\n",
       "    <tr>\n",
       "      <th>1</th>\n",
       "      <td>1.393406</td>\n",
       "      <td>0.092908</td>\n",
       "      <td>0.281746</td>\n",
       "      <td>0.769023</td>\n",
       "      <td>1.246435</td>\n",
       "    </tr>\n",
       "    <tr>\n",
       "      <th>2</th>\n",
       "      <td>1.007189</td>\n",
       "      <td>-1.296221</td>\n",
       "      <td>0.274992</td>\n",
       "      <td>0.228913</td>\n",
       "      <td>1.352917</td>\n",
       "    </tr>\n",
       "    <tr>\n",
       "      <th>3</th>\n",
       "      <td>0.886429</td>\n",
       "      <td>-2.001637</td>\n",
       "      <td>-0.371843</td>\n",
       "      <td>1.669025</td>\n",
       "      <td>-0.438570</td>\n",
       "    </tr>\n",
       "    <tr>\n",
       "      <th>4</th>\n",
       "      <td>-0.539741</td>\n",
       "      <td>0.476985</td>\n",
       "      <td>3.248944</td>\n",
       "      <td>-1.021228</td>\n",
       "      <td>-0.577087</td>\n",
       "    </tr>\n",
       "    <tr>\n",
       "      <th>5</th>\n",
       "      <td>0.124121</td>\n",
       "      <td>0.302614</td>\n",
       "      <td>0.523772</td>\n",
       "      <td>0.000940</td>\n",
       "      <td>1.343810</td>\n",
       "    </tr>\n",
       "    <tr>\n",
       "      <th>6</th>\n",
       "      <td>-0.713544</td>\n",
       "      <td>-0.831154</td>\n",
       "      <td>-2.370232</td>\n",
       "      <td>-1.860761</td>\n",
       "      <td>-0.860757</td>\n",
       "    </tr>\n",
       "    <tr>\n",
       "      <th>7</th>\n",
       "      <td>0.560145</td>\n",
       "      <td>-1.265934</td>\n",
       "      <td>0.119827</td>\n",
       "      <td>-1.063512</td>\n",
       "      <td>0.332883</td>\n",
       "    </tr>\n",
       "    <tr>\n",
       "      <th>8</th>\n",
       "      <td>-2.359419</td>\n",
       "      <td>-0.199543</td>\n",
       "      <td>-1.541996</td>\n",
       "      <td>-0.970736</td>\n",
       "      <td>-1.307030</td>\n",
       "    </tr>\n",
       "    <tr>\n",
       "      <th>9</th>\n",
       "      <td>0.286350</td>\n",
       "      <td>0.377984</td>\n",
       "      <td>-0.753887</td>\n",
       "      <td>0.331286</td>\n",
       "      <td>1.349742</td>\n",
       "    </tr>\n",
       "  </tbody>\n",
       "</table>\n",
       "</div>"
      ],
      "text/plain": [
       "          0         1         2         3         4\n",
       "0 -0.204708  0.478943 -0.519439 -0.555730  1.965781\n",
       "1  1.393406  0.092908  0.281746  0.769023  1.246435\n",
       "2  1.007189 -1.296221  0.274992  0.228913  1.352917\n",
       "3  0.886429 -2.001637 -0.371843  1.669025 -0.438570\n",
       "4 -0.539741  0.476985  3.248944 -1.021228 -0.577087\n",
       "5  0.124121  0.302614  0.523772  0.000940  1.343810\n",
       "6 -0.713544 -0.831154 -2.370232 -1.860761 -0.860757\n",
       "7  0.560145 -1.265934  0.119827 -1.063512  0.332883\n",
       "8 -2.359419 -0.199543 -1.541996 -0.970736 -1.307030\n",
       "9  0.286350  0.377984 -0.753887  0.331286  1.349742"
      ]
     },
     "execution_count": 40,
     "metadata": {},
     "output_type": "execute_result"
    }
   ],
   "source": [
    "rdf"
   ]
  },
  {
   "cell_type": "code",
   "execution_count": null,
   "metadata": {
    "collapsed": true
   },
   "outputs": [],
   "source": [
    "# try to use the same seed"
   ]
  },
  {
   "cell_type": "code",
   "execution_count": 41,
   "metadata": {
    "collapsed": true
   },
   "outputs": [],
   "source": [
    "var_names = ['var1', 'var2', 'var3', 'var4', 'var5']"
   ]
  },
  {
   "cell_type": "code",
   "execution_count": 42,
   "metadata": {
    "collapsed": true
   },
   "outputs": [],
   "source": [
    "rdf.columns = var_names"
   ]
  },
  {
   "cell_type": "code",
   "execution_count": 43,
   "metadata": {},
   "outputs": [
    {
     "data": {
      "text/html": [
       "<div>\n",
       "<table border=\"1\" class=\"dataframe\">\n",
       "  <thead>\n",
       "    <tr style=\"text-align: right;\">\n",
       "      <th></th>\n",
       "      <th>var1</th>\n",
       "      <th>var2</th>\n",
       "      <th>var3</th>\n",
       "      <th>var4</th>\n",
       "      <th>var5</th>\n",
       "    </tr>\n",
       "  </thead>\n",
       "  <tbody>\n",
       "    <tr>\n",
       "      <th>0</th>\n",
       "      <td>-0.204708</td>\n",
       "      <td>0.478943</td>\n",
       "      <td>-0.519439</td>\n",
       "      <td>-0.555730</td>\n",
       "      <td>1.965781</td>\n",
       "    </tr>\n",
       "    <tr>\n",
       "      <th>1</th>\n",
       "      <td>1.393406</td>\n",
       "      <td>0.092908</td>\n",
       "      <td>0.281746</td>\n",
       "      <td>0.769023</td>\n",
       "      <td>1.246435</td>\n",
       "    </tr>\n",
       "  </tbody>\n",
       "</table>\n",
       "</div>"
      ],
      "text/plain": [
       "       var1      var2      var3      var4      var5\n",
       "0 -0.204708  0.478943 -0.519439 -0.555730  1.965781\n",
       "1  1.393406  0.092908  0.281746  0.769023  1.246435"
      ]
     },
     "execution_count": 43,
     "metadata": {},
     "output_type": "execute_result"
    }
   ],
   "source": [
    "rdf.head(2)"
   ]
  },
  {
   "cell_type": "code",
   "execution_count": null,
   "metadata": {
    "collapsed": true
   },
   "outputs": [],
   "source": [
    "# other distributions"
   ]
  },
  {
   "cell_type": "code",
   "execution_count": 49,
   "metadata": {},
   "outputs": [],
   "source": [
    "rdf_bin = pd.DataFrame(np.random.binomial(100, 0.5, (10, 5)))"
   ]
  },
  {
   "cell_type": "code",
   "execution_count": 50,
   "metadata": {},
   "outputs": [
    {
     "data": {
      "image/png": "[encoded data removed]",
      "text/plain": [
       "<matplotlib.figure.Figure at 0x11b1c98d0>"
      ]
     },
     "metadata": {},
     "output_type": "display_data"
    }
   ],
   "source": [
    "plt.hist(rdf_bin)\n",
    "plt.show()"
   ]
  },
  {
   "cell_type": "code",
   "execution_count": 51,
   "metadata": {},
   "outputs": [
    {
     "data": {
      "text/plain": [
       "array([[101, 107, 101,  92,  81],\n",
       "       [107,  96,  81,  97, 115],\n",
       "       [ 99,  83, 111, 113,  84],\n",
       "       [ 93, 105, 101,  91,  96],\n",
       "       [ 84,  93, 110, 104,  82],\n",
       "       [102,  92, 108,  94,  93],\n",
       "       [ 89, 107, 117, 100, 104],\n",
       "       [111, 109,  96, 115,  93],\n",
       "       [ 93,  98, 107, 102,  94],\n",
       "       [109, 105,  96, 110,  78]])"
      ]
     },
     "execution_count": 51,
     "metadata": {},
     "output_type": "execute_result"
    }
   ],
   "source": [
    "np.random.poisson(100, (10,5))"
   ]
  },
  {
   "cell_type": "code",
   "execution_count": 52,
   "metadata": {},
   "outputs": [
    {
     "data": {
      "text/html": [
       "<div>\n",
       "<table border=\"1\" class=\"dataframe\">\n",
       "  <thead>\n",
       "    <tr style=\"text-align: right;\">\n",
       "      <th></th>\n",
       "      <th>0</th>\n",
       "      <th>1</th>\n",
       "      <th>2</th>\n",
       "      <th>3</th>\n",
       "      <th>4</th>\n",
       "    </tr>\n",
       "  </thead>\n",
       "  <tbody>\n",
       "    <tr>\n",
       "      <th>0</th>\n",
       "      <td>50.958776</td>\n",
       "      <td>44.254863</td>\n",
       "      <td>38.225556</td>\n",
       "      <td>78.009926</td>\n",
       "      <td>10.907693</td>\n",
       "    </tr>\n",
       "    <tr>\n",
       "      <th>1</th>\n",
       "      <td>2.631464</td>\n",
       "      <td>78.455224</td>\n",
       "      <td>85.462711</td>\n",
       "      <td>23.146474</td>\n",
       "      <td>63.065334</td>\n",
       "    </tr>\n",
       "    <tr>\n",
       "      <th>2</th>\n",
       "      <td>7.402359</td>\n",
       "      <td>24.653159</td>\n",
       "      <td>46.517531</td>\n",
       "      <td>66.605574</td>\n",
       "      <td>22.552460</td>\n",
       "    </tr>\n",
       "    <tr>\n",
       "      <th>3</th>\n",
       "      <td>47.524754</td>\n",
       "      <td>97.850807</td>\n",
       "      <td>51.792320</td>\n",
       "      <td>47.543001</td>\n",
       "      <td>66.947961</td>\n",
       "    </tr>\n",
       "    <tr>\n",
       "      <th>4</th>\n",
       "      <td>52.600827</td>\n",
       "      <td>26.469642</td>\n",
       "      <td>82.592623</td>\n",
       "      <td>13.749728</td>\n",
       "      <td>18.022434</td>\n",
       "    </tr>\n",
       "    <tr>\n",
       "      <th>5</th>\n",
       "      <td>18.316281</td>\n",
       "      <td>38.812115</td>\n",
       "      <td>11.057732</td>\n",
       "      <td>39.589864</td>\n",
       "      <td>81.181528</td>\n",
       "    </tr>\n",
       "    <tr>\n",
       "      <th>6</th>\n",
       "      <td>36.021428</td>\n",
       "      <td>87.775262</td>\n",
       "      <td>95.924407</td>\n",
       "      <td>84.034114</td>\n",
       "      <td>12.389493</td>\n",
       "    </tr>\n",
       "    <tr>\n",
       "      <th>7</th>\n",
       "      <td>56.678755</td>\n",
       "      <td>11.735363</td>\n",
       "      <td>87.710974</td>\n",
       "      <td>35.650774</td>\n",
       "      <td>89.873793</td>\n",
       "    </tr>\n",
       "    <tr>\n",
       "      <th>8</th>\n",
       "      <td>13.293562</td>\n",
       "      <td>64.148321</td>\n",
       "      <td>87.379990</td>\n",
       "      <td>1.105491</td>\n",
       "      <td>31.167265</td>\n",
       "    </tr>\n",
       "    <tr>\n",
       "      <th>9</th>\n",
       "      <td>3.853642</td>\n",
       "      <td>55.423221</td>\n",
       "      <td>18.343947</td>\n",
       "      <td>59.412527</td>\n",
       "      <td>1.506941</td>\n",
       "    </tr>\n",
       "  </tbody>\n",
       "</table>\n",
       "</div>"
      ],
      "text/plain": [
       "           0          1          2          3          4\n",
       "0  50.958776  44.254863  38.225556  78.009926  10.907693\n",
       "1   2.631464  78.455224  85.462711  23.146474  63.065334\n",
       "2   7.402359  24.653159  46.517531  66.605574  22.552460\n",
       "3  47.524754  97.850807  51.792320  47.543001  66.947961\n",
       "4  52.600827  26.469642  82.592623  13.749728  18.022434\n",
       "5  18.316281  38.812115  11.057732  39.589864  81.181528\n",
       "6  36.021428  87.775262  95.924407  84.034114  12.389493\n",
       "7  56.678755  11.735363  87.710974  35.650774  89.873793\n",
       "8  13.293562  64.148321  87.379990   1.105491  31.167265\n",
       "9   3.853642  55.423221  18.343947  59.412527   1.506941"
      ]
     },
     "execution_count": 52,
     "metadata": {},
     "output_type": "execute_result"
    }
   ],
   "source": [
    "pd.DataFrame(np.random.uniform(1, 100, (10,5)))"
   ]
  },
  {
   "cell_type": "code",
   "execution_count": null,
   "metadata": {
    "collapsed": true
   },
   "outputs": [],
   "source": [
    "# let's save the dataframe"
   ]
  },
  {
   "cell_type": "code",
   "execution_count": 53,
   "metadata": {
    "collapsed": true
   },
   "outputs": [],
   "source": [
    "tos = pd.DataFrame(np.random.randn(10, 5))"
   ]
  },
  {
   "cell_type": "code",
   "execution_count": 54,
   "metadata": {
    "collapsed": true
   },
   "outputs": [],
   "source": [
    "np.save('tos_saved', tos)"
   ]
  },
  {
   "cell_type": "code",
   "execution_count": 55,
   "metadata": {
    "collapsed": true
   },
   "outputs": [],
   "source": [
    "load1 = np.load('tos_saved.npy')"
   ]
  },
  {
   "cell_type": "code",
   "execution_count": 56,
   "metadata": {},
   "outputs": [
    {
     "data": {
      "text/plain": [
       "array([[  9.54644156e-01,  -8.00971332e-01,   1.58514730e-02,\n",
       "          1.08755329e+00,  -6.31242820e-01],\n",
       "       [ -2.26893249e-02,   6.85879242e-01,   5.19179208e-01,\n",
       "          1.82701892e-01,   2.04647381e-01],\n",
       "       [ -2.65986356e-01,  -2.27288704e-04,   1.23945232e+00,\n",
       "         -8.19715256e-01,  -2.60388907e-01],\n",
       "       [  5.19140257e-01,   1.43091645e-01,  -1.16677747e-01,\n",
       "          1.49674411e+00,  -1.48427438e+00],\n",
       "       [ -1.67118276e+00,   9.17173409e-01,  -7.58014151e-01,\n",
       "          2.06479240e+00,  -8.50778396e-01],\n",
       "       [  4.99450713e-01,  -7.92663655e-02,  -1.40329264e+00,\n",
       "          1.57894791e+00,   3.69028988e-04],\n",
       "       [  9.00884914e-01,  -4.54869220e-01,  -8.64546645e-01,\n",
       "          1.12911990e+00,   5.78744129e-02],\n",
       "       [ -4.33738666e-01,   9.26976374e-02,  -1.39782015e+00,\n",
       "          1.45782265e+00,  -1.76756916e-01],\n",
       "       [ -2.54240300e-01,  -1.26343750e+00,   4.52262741e-01,\n",
       "         -8.40117409e-01,  -5.02678071e-01],\n",
       "       [  5.13392587e-01,   1.64165300e+00,   5.80790036e-01,\n",
       "         -1.70734027e+00,  -1.78355431e-01]])"
      ]
     },
     "execution_count": 56,
     "metadata": {},
     "output_type": "execute_result"
    }
   ],
   "source": [
    "load1"
   ]
  }
 ],
 "metadata": {
  "kernelspec": {
   "display_name": "Python 3",
   "language": "python",
   "name": "python3"
  },
  "language_info": {
   "codemirror_mode": {
    "name": "ipython",
    "version": 3
   },
   "file_extension": ".py",
   "mimetype": "text/x-python",
   "name": "python",
   "nbconvert_exporter": "python",
   "pygments_lexer": "ipython3",
   "version": "3.6.1"
  }
 },
 "nbformat": 4,
 "nbformat_minor": 2
}
